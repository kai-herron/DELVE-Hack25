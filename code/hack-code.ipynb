{
 "cells": [
  {
   "cell_type": "markdown",
   "id": "65a071ac",
   "metadata": {
    "vscode": {
     "languageId": "plaintext"
    }
   },
   "source": [
    "# DELVE Hack Session 2025"
   ]
  },
  {
   "cell_type": "markdown",
   "id": "354d1f71",
   "metadata": {},
   "source": [
    "The goal is to try and replicate the Dragonfly MRF algorithm and see if we can remove background sources to improve LSBG detection (maybe mdoeling?)"
   ]
  },
  {
   "cell_type": "code",
   "execution_count": 49,
   "id": "4b8817f6",
   "metadata": {},
   "outputs": [],
   "source": [
    "# basic packages\n",
    "import numpy as np\n",
    "import pandas as pd\n",
    "import astropy.io.fits as pf\n",
    "import fitsio as ft\n",
    "import matplotlib.pyplot as plt\n",
    "import glob\n",
    "\n",
    "# image processing stuff\n",
    "from astropy.stats import sigma_clipped_stats\n",
    "from astropy.wcs import WCS\n",
    "from astropy.stats import SigmaClip\n",
    "from scipy import ndimage\n",
    "from astropy.convolution import convolve, Gaussian2DKernel\n",
    "import astropy.units as u\n",
    "import mrf\n",
    "from mrf.celestial import Celestial\n",
    "from astropy.table import Table, Column, hstack\n",
    "from mrf.display import display_single, SEG_CMAP"
   ]
  },
  {
   "cell_type": "code",
   "execution_count": 79,
   "id": "d569945f",
   "metadata": {},
   "outputs": [],
   "source": [
    "# glob it\n",
    "tile_files = glob.glob('/Users/f006zcq/Desktop/LSST-LSBGs/DELVE-Hack25/images/*/DES2051-5540*.fits.fz')\n",
    "cut_files = glob.glob('/Users/f006zcq/Desktop/LSST-LSBGs/DELVE-Hack25/images/*/cut*')\n",
    "cat_file = glob.glob('/Users/f006zcq/Desktop/LSST-LSBGs/DELVE-Hack25/images/*/*coadd*')"
   ]
  },
  {
   "cell_type": "code",
   "execution_count": 81,
   "id": "a8a0c68a",
   "metadata": {},
   "outputs": [],
   "source": [
    "# read in catalog and images\n",
    "catalog = ft.read(cat_file[0])\n",
    "\n",
    "g_hdu = pf.open(cut_files[0])\n",
    "r_hdu = pf.open(cut_files[1])\n",
    "i_hdu = pf.open(cut_files[2])\n",
    "\n",
    "tile = pf.open(tile_files[0])['SCI'].header"
   ]
  },
  {
   "cell_type": "code",
   "execution_count": 82,
   "id": "da4e6350",
   "metadata": {},
   "outputs": [],
   "source": [
    "# let's import a WCS from the images\n",
    "wcs = WCS(g_hdu['SCI'].header)"
   ]
  },
  {
   "cell_type": "code",
   "execution_count": 83,
   "id": "ad12c497",
   "metadata": {},
   "outputs": [
    {
     "name": "stdout",
     "output_type": "stream",
     "text": [
      "[312.66972] [-55.608953]\n"
     ]
    }
   ],
   "source": [
    "# declare the thing we want to retain in the image\n",
    "target_lsbg = 882985013\n",
    "obj = catalog[catalog['COADD_OBJECT_ID']==target_lsbg]\n",
    "print(obj['RA'],obj['DEC'])"
   ]
  },
  {
   "cell_type": "code",
   "execution_count": 87,
   "id": "30a8b5f2",
   "metadata": {},
   "outputs": [],
   "source": [
    "head = g_hdu['SCI'].header\n",
    "head['CD1_1'] = tile['CD1_1']\n",
    "head['CD2_2'] = tile['CD2_2']\n"
   ]
  },
  {
   "cell_type": "code",
   "execution_count": 89,
   "id": "ca945527",
   "metadata": {},
   "outputs": [],
   "source": [
    "# now let's follow MRF's tutorial\n",
    "mrf_g = Celestial(g_hdu['SCI'].data,header=head)"
   ]
  },
  {
   "cell_type": "code",
   "execution_count": 90,
   "id": "18f42995",
   "metadata": {},
   "outputs": [
    {
     "data": {
      "text/plain": [
       "<astropy.io.fits.hdu.image.PrimaryHDU at 0x14f942ad0>"
      ]
     },
     "execution_count": 90,
     "metadata": {},
     "output_type": "execute_result"
    }
   ],
   "source": [
    "mrf_g.resize_image(0.5,method='cubic')\n",
    "mrf_g.image = convolve(mrf_test.image,Gaussian2DKernel(1))\n",
    "mrf_g.save_to_fits('mrf_test_df_g.fits')"
   ]
  },
  {
   "cell_type": "code",
   "execution_count": 91,
   "id": "578288fc",
   "metadata": {},
   "outputs": [
    {
     "data": {
      "text/plain": [
       "<astropy.io.fits.hdu.image.PrimaryHDU at 0x15fd559c0>"
      ]
     },
     "execution_count": 91,
     "metadata": {},
     "output_type": "execute_result"
    }
   ],
   "source": [
    "mrf_r = Celestial(r_hdu['SCI'].data, header=head)\n",
    "mrf_r.resize_image(0.5)\n",
    "mrf_r.image = convolve(mrf_r.image, Gaussian2DKernel(1))\n",
    "mrf_r.save_to_fits('mrf_test_df_r.fits')"
   ]
  },
  {
   "cell_type": "code",
   "execution_count": 94,
   "id": "4a9f29cc",
   "metadata": {},
   "outputs": [],
   "source": [
    "task = MrfTask('decam_config.yaml')\n",
    "img_lowres = 'mrf_test_df_g.fits'\n",
    "img_hires_b = cut_files[0]\n",
    "img_hires_r = cut_files[1]\n",
    "certain_gal_cat = 'gal_cat_mrf.txt'"
   ]
  },
  {
   "cell_type": "code",
   "execution_count": 95,
   "id": "d83958db",
   "metadata": {},
   "outputs": [
    {
     "name": "stdout",
     "output_type": "stream",
     "text": [
      "2025-06-27 15:23:13,077 Running Multi-Resolution Filtering (MRF) on \"cfht\" and \"df\" images!\n",
      "2025-06-27 15:23:13,110 Magnify Dragonfly image with a factor of 3.0:\n"
     ]
    },
    {
     "ename": "GalSimFFTSizeError",
     "evalue": "drawFFT requires an FFT that is too large.\nThe required FFT size would be 16384 x 16384, which requires 6.00 GB of memory.\nIf you can handle the large FFT, you may update gsparams.maximum_fft_size.",
     "output_type": "error",
     "traceback": [
      "\u001b[0;31m---------------------------------------------------------------------------\u001b[0m",
      "\u001b[0;31mGalSimFFTSizeError\u001b[0m                        Traceback (most recent call last)",
      "Cell \u001b[0;32mIn[95], line 1\u001b[0m\n\u001b[0;32m----> 1\u001b[0m results \u001b[38;5;241m=\u001b[39m \u001b[43mtask\u001b[49m\u001b[38;5;241;43m.\u001b[39;49m\u001b[43mrun\u001b[49m\u001b[43m(\u001b[49m\u001b[43mimg_lowres\u001b[49m\u001b[43m,\u001b[49m\u001b[43m \u001b[49m\u001b[43mimg_hires_b\u001b[49m\u001b[43m,\u001b[49m\u001b[43m \u001b[49m\u001b[43mimg_hires_r\u001b[49m\u001b[43m,\u001b[49m\u001b[43m \u001b[49m\u001b[43mcertain_gal_cat\u001b[49m\u001b[43m,\u001b[49m\u001b[43m \u001b[49m\n\u001b[1;32m      2\u001b[0m \u001b[43m                   \u001b[49m\u001b[43moutput_name\u001b[49m\u001b[38;5;241;43m=\u001b[39;49m\u001b[38;5;124;43m'\u001b[39;49m\u001b[38;5;124;43mmrf_test\u001b[39;49m\u001b[38;5;124;43m'\u001b[39;49m\u001b[43m,\u001b[49m\u001b[43m \u001b[49m\u001b[43mverbose\u001b[49m\u001b[38;5;241;43m=\u001b[39;49m\u001b[38;5;28;43;01mTrue\u001b[39;49;00m\u001b[43m)\u001b[49m\n",
      "File \u001b[0;32m/opt/homebrew/Caskroom/miniforge/base/lib/python3.10/site-packages/mrf-1.0.5.dev72+gaf1ca1b-py3.10.egg/mrf/task.py:261\u001b[0m, in \u001b[0;36mMrfTask.run\u001b[0;34m(self, dir_lowres, dir_hires_b, dir_hires_r, certain_gal_cat, wide_psf, output_name, verbose, skip_resize, skip_SE, skip_mast, mast_catalog)\u001b[0m\n\u001b[1;32m    259\u001b[0m     lowres \u001b[38;5;241m=\u001b[39m Celestial(hdu[\u001b[38;5;241m0\u001b[39m]\u001b[38;5;241m.\u001b[39mdata, header\u001b[38;5;241m=\u001b[39mhdu[\u001b[38;5;241m0\u001b[39m]\u001b[38;5;241m.\u001b[39mheader)\n\u001b[1;32m    260\u001b[0m \u001b[38;5;28;01melse\u001b[39;00m:\n\u001b[0;32m--> 261\u001b[0m     \u001b[43mlowres\u001b[49m\u001b[38;5;241;43m.\u001b[39;49m\u001b[43mresize_image\u001b[49m\u001b[43m(\u001b[49m\u001b[43mf_magnify\u001b[49m\u001b[43m,\u001b[49m\u001b[43m \u001b[49m\u001b[43mmethod\u001b[49m\u001b[38;5;241;43m=\u001b[39;49m\u001b[43mconfig\u001b[49m\u001b[38;5;241;43m.\u001b[39;49m\u001b[43mfluxmodel\u001b[49m\u001b[38;5;241;43m.\u001b[39;49m\u001b[43minterp\u001b[49m\u001b[43m)\u001b[49m \n\u001b[1;32m    262\u001b[0m     lowres\u001b[38;5;241m.\u001b[39msave_to_fits(\u001b[38;5;124m'\u001b[39m\u001b[38;5;124m_lowres_\u001b[39m\u001b[38;5;132;01m{}\u001b[39;00m\u001b[38;5;124m.fits\u001b[39m\u001b[38;5;124m'\u001b[39m\u001b[38;5;241m.\u001b[39mformat(\u001b[38;5;28mint\u001b[39m(f_magnify)))\n\u001b[1;32m    264\u001b[0m logger\u001b[38;5;241m.\u001b[39minfo(\u001b[38;5;124m'\u001b[39m\u001b[38;5;124mRegister high resolution image \u001b[39m\u001b[38;5;124m\"\u001b[39m\u001b[38;5;132;01m{0}\u001b[39;00m\u001b[38;5;124m\"\u001b[39m\u001b[38;5;124m with \u001b[39m\u001b[38;5;124m\"\u001b[39m\u001b[38;5;132;01m{1}\u001b[39;00m\u001b[38;5;124m\"\u001b[39m\u001b[38;5;124m'\u001b[39m\u001b[38;5;241m.\u001b[39mformat(dir_hires_b, dir_lowres))\n",
      "File \u001b[0;32m/opt/homebrew/Caskroom/miniforge/base/lib/python3.10/site-packages/mrf-1.0.5.dev72+gaf1ca1b-py3.10.egg/mrf/celestial.py:415\u001b[0m, in \u001b[0;36mCelestial.resize_image\u001b[0;34m(self, f, method, order, cval)\u001b[0m\n\u001b[1;32m    413\u001b[0m ny, nx \u001b[38;5;241m=\u001b[39m \u001b[38;5;28mself\u001b[39m\u001b[38;5;241m.\u001b[39mimage\u001b[38;5;241m.\u001b[39mshape\n\u001b[1;32m    414\u001b[0m \u001b[38;5;28;01mif\u001b[39;00m f \u001b[38;5;241m>\u001b[39m \u001b[38;5;241m1\u001b[39m:\n\u001b[0;32m--> 415\u001b[0m     result \u001b[38;5;241m=\u001b[39m \u001b[43mgalimg\u001b[49m\u001b[38;5;241;43m.\u001b[39;49m\u001b[43mdrawImage\u001b[49m\u001b[43m(\u001b[49m\u001b[43mscale\u001b[49m\u001b[38;5;241;43m=\u001b[39;49m\u001b[38;5;28;43mself\u001b[39;49m\u001b[38;5;241;43m.\u001b[39;49m\u001b[43mpixel_scale\u001b[49m\u001b[43m \u001b[49m\u001b[38;5;241;43m/\u001b[39;49m\u001b[43m \u001b[49m\u001b[43mf\u001b[49m\u001b[43m,\u001b[49m\u001b[43m \u001b[49m\n\u001b[1;32m    416\u001b[0m \u001b[43m                    \u001b[49m\u001b[43mnx\u001b[49m\u001b[38;5;241;43m=\u001b[39;49m\u001b[38;5;28;43mint\u001b[39;49m\u001b[43m(\u001b[49m\u001b[43m(\u001b[49m\u001b[43mnx\u001b[49m\u001b[43m \u001b[49m\u001b[38;5;241;43m-\u001b[39;49m\u001b[38;5;241;43m1\u001b[39;49m\u001b[43m)\u001b[49m\u001b[43m \u001b[49m\u001b[38;5;241;43m*\u001b[39;49m\u001b[43m \u001b[49m\u001b[43mf\u001b[49m\u001b[43m \u001b[49m\u001b[38;5;241;43m+\u001b[39;49m\u001b[43m \u001b[49m\u001b[38;5;241;43m1\u001b[39;49m\u001b[43m)\u001b[49m\u001b[43m,\u001b[49m\u001b[43m \u001b[49m\u001b[43mny\u001b[49m\u001b[38;5;241;43m=\u001b[39;49m\u001b[38;5;28;43mint\u001b[39;49m\u001b[43m(\u001b[49m\u001b[43m(\u001b[49m\u001b[43mny\u001b[49m\u001b[43m \u001b[49m\u001b[38;5;241;43m-\u001b[39;49m\u001b[43m \u001b[49m\u001b[38;5;241;43m1\u001b[39;49m\u001b[43m)\u001b[49m\u001b[38;5;241;43m*\u001b[39;49m\u001b[43m \u001b[49m\u001b[43mf\u001b[49m\u001b[43m \u001b[49m\u001b[38;5;241;43m+\u001b[39;49m\u001b[43m \u001b[49m\u001b[38;5;241;43m1\u001b[39;49m\u001b[43m)\u001b[49m\u001b[43m)\u001b[49m\n\u001b[1;32m    417\u001b[0m     \u001b[38;5;28mself\u001b[39m\u001b[38;5;241m.\u001b[39mheader \u001b[38;5;241m=\u001b[39m \u001b[38;5;28mself\u001b[39m\u001b[38;5;241m.\u001b[39m_resize_header_wcs(f)\n\u001b[1;32m    418\u001b[0m     \u001b[38;5;28mself\u001b[39m\u001b[38;5;241m.\u001b[39mheader[\u001b[38;5;124m'\u001b[39m\u001b[38;5;124mCRPIX1\u001b[39m\u001b[38;5;124m'\u001b[39m] \u001b[38;5;241m+\u001b[39m\u001b[38;5;241m=\u001b[39m (\u001b[38;5;241m1\u001b[39m \u001b[38;5;241m-\u001b[39m f \u001b[38;5;241m*\u001b[39m \u001b[38;5;241m1\u001b[39m)\n",
      "File \u001b[0;32m/opt/homebrew/Caskroom/miniforge/base/lib/python3.10/site-packages/galsim/gsobject.py:1818\u001b[0m, in \u001b[0;36mGSObject.drawImage\u001b[0;34m(self, image, nx, ny, bounds, scale, wcs, dtype, method, area, exptime, gain, add_to_image, center, use_true_center, offset, n_photons, rng, max_extra_noise, poisson_flux, sensor, photon_ops, n_subsample, maxN, save_photons, bandpass, setup_only, surface_ops)\u001b[0m\n\u001b[1;32m   1816\u001b[0m     added_photons \u001b[38;5;241m=\u001b[39m prof\u001b[38;5;241m.\u001b[39mdrawReal(draw_image, add)\n\u001b[1;32m   1817\u001b[0m \u001b[38;5;28;01melse\u001b[39;00m:\n\u001b[0;32m-> 1818\u001b[0m     added_photons \u001b[38;5;241m=\u001b[39m \u001b[43mprof\u001b[49m\u001b[38;5;241;43m.\u001b[39;49m\u001b[43mdrawFFT\u001b[49m\u001b[43m(\u001b[49m\u001b[43mdraw_image\u001b[49m\u001b[43m,\u001b[49m\u001b[43m \u001b[49m\u001b[43madd\u001b[49m\u001b[43m)\u001b[49m\n\u001b[1;32m   1820\u001b[0m \u001b[38;5;28;01mif\u001b[39;00m sensor \u001b[38;5;129;01mis\u001b[39;00m \u001b[38;5;129;01mnot\u001b[39;00m \u001b[38;5;28;01mNone\u001b[39;00m:\n\u001b[1;32m   1821\u001b[0m     \u001b[38;5;28;01mif\u001b[39;00m maxN \u001b[38;5;129;01mis\u001b[39;00m \u001b[38;5;129;01mnot\u001b[39;00m \u001b[38;5;28;01mNone\u001b[39;00m \u001b[38;5;129;01mand\u001b[39;00m maxN \u001b[38;5;241m<\u001b[39m added_photons:\n",
      "File \u001b[0;32m/opt/homebrew/Caskroom/miniforge/base/lib/python3.10/site-packages/galsim/gsobject.py:2048\u001b[0m, in \u001b[0;36mGSObject.drawFFT\u001b[0;34m(self, image, add_to_image)\u001b[0m\n\u001b[1;32m   2045\u001b[0m \u001b[38;5;28;01mif\u001b[39;00m image\u001b[38;5;241m.\u001b[39mwcs \u001b[38;5;129;01mis\u001b[39;00m \u001b[38;5;28;01mNone\u001b[39;00m \u001b[38;5;129;01mor\u001b[39;00m \u001b[38;5;129;01mnot\u001b[39;00m image\u001b[38;5;241m.\u001b[39mwcs\u001b[38;5;241m.\u001b[39m_isPixelScale:\n\u001b[1;32m   2046\u001b[0m     \u001b[38;5;28;01mraise\u001b[39;00m GalSimValueError(\u001b[38;5;124m\"\u001b[39m\u001b[38;5;124mdrawPhot requires an image with a PixelScale wcs\u001b[39m\u001b[38;5;124m\"\u001b[39m, image)\n\u001b[0;32m-> 2048\u001b[0m kimage, wrap_size \u001b[38;5;241m=\u001b[39m \u001b[38;5;28;43mself\u001b[39;49m\u001b[38;5;241;43m.\u001b[39;49m\u001b[43mdrawFFT_makeKImage\u001b[49m\u001b[43m(\u001b[49m\u001b[43mimage\u001b[49m\u001b[43m)\u001b[49m\n\u001b[1;32m   2049\u001b[0m \u001b[38;5;28mself\u001b[39m\u001b[38;5;241m.\u001b[39m_drawKImage(kimage)\n\u001b[1;32m   2050\u001b[0m \u001b[38;5;28;01mreturn\u001b[39;00m \u001b[38;5;28mself\u001b[39m\u001b[38;5;241m.\u001b[39mdrawFFT_finish(image, kimage, wrap_size, add_to_image)\n",
      "File \u001b[0;32m/opt/homebrew/Caskroom/miniforge/base/lib/python3.10/site-packages/galsim/gsobject.py:1971\u001b[0m, in \u001b[0;36mGSObject.drawFFT_makeKImage\u001b[0;34m(self, image)\u001b[0m\n\u001b[1;32m   1968\u001b[0m     Nk \u001b[38;5;241m=\u001b[39m \u001b[38;5;28mint\u001b[39m(np\u001b[38;5;241m.\u001b[39mceil(maxk\u001b[38;5;241m/\u001b[39mdk)) \u001b[38;5;241m*\u001b[39m \u001b[38;5;241m2\u001b[39m\n\u001b[1;32m   1970\u001b[0m \u001b[38;5;28;01mif\u001b[39;00m Nk \u001b[38;5;241m>\u001b[39m \u001b[38;5;28mself\u001b[39m\u001b[38;5;241m.\u001b[39mgsparams\u001b[38;5;241m.\u001b[39mmaximum_fft_size:\n\u001b[0;32m-> 1971\u001b[0m     \u001b[38;5;28;01mraise\u001b[39;00m GalSimFFTSizeError(\u001b[38;5;124m\"\u001b[39m\u001b[38;5;124mdrawFFT requires an FFT that is too large.\u001b[39m\u001b[38;5;124m\"\u001b[39m, Nk)\n\u001b[1;32m   1973\u001b[0m bounds \u001b[38;5;241m=\u001b[39m _BoundsI(\u001b[38;5;241m0\u001b[39m,Nk\u001b[38;5;241m/\u001b[39m\u001b[38;5;241m/\u001b[39m\u001b[38;5;241m2\u001b[39m,\u001b[38;5;241m-\u001b[39mNk\u001b[38;5;241m/\u001b[39m\u001b[38;5;241m/\u001b[39m\u001b[38;5;241m2\u001b[39m,Nk\u001b[38;5;241m/\u001b[39m\u001b[38;5;241m/\u001b[39m\u001b[38;5;241m2\u001b[39m)\n\u001b[1;32m   1974\u001b[0m \u001b[38;5;28;01mif\u001b[39;00m image\u001b[38;5;241m.\u001b[39mdtype \u001b[38;5;129;01min\u001b[39;00m (np\u001b[38;5;241m.\u001b[39mcomplex128, np\u001b[38;5;241m.\u001b[39mfloat64, np\u001b[38;5;241m.\u001b[39mint32, np\u001b[38;5;241m.\u001b[39muint32):\n",
      "\u001b[0;31mGalSimFFTSizeError\u001b[0m: drawFFT requires an FFT that is too large.\nThe required FFT size would be 16384 x 16384, which requires 6.00 GB of memory.\nIf you can handle the large FFT, you may update gsparams.maximum_fft_size."
     ]
    }
   ],
   "source": [
    "results = task.run(img_lowres, img_hires_b, img_hires_r, certain_gal_cat, \n",
    "                   output_name='mrf_test', verbose=True)"
   ]
  },
  {
   "cell_type": "code",
   "execution_count": null,
   "id": "b91d0865",
   "metadata": {},
   "outputs": [],
   "source": []
  },
  {
   "cell_type": "code",
   "execution_count": null,
   "id": "9eb597c6",
   "metadata": {},
   "outputs": [],
   "source": []
  }
 ],
 "metadata": {
  "kernelspec": {
   "display_name": "base",
   "language": "python",
   "name": "python3"
  },
  "language_info": {
   "codemirror_mode": {
    "name": "ipython",
    "version": 3
   },
   "file_extension": ".py",
   "mimetype": "text/x-python",
   "name": "python",
   "nbconvert_exporter": "python",
   "pygments_lexer": "ipython3",
   "version": "3.10.12"
  }
 },
 "nbformat": 4,
 "nbformat_minor": 5
}
